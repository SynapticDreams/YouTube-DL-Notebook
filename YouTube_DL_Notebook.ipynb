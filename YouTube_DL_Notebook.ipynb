{
  "nbformat": 4,
  "nbformat_minor": 0,
  "metadata": {
    "colab": {
      "name": "YouTube_DL_[TechWizTime].ipynb",
      "provenance": [],
      "collapsed_sections": []
    },
    "kernelspec": {
      "name": "python3",
      "display_name": "Python 3"
    },
    "language_info": {
      "name": "python"
    }
  },
  "cells": [
    {
      "cell_type": "markdown",
      "source": [
        ""
      ],
      "metadata": {
        "id": "_aPlFxGxoYFm"
      }
    },
    {
      "cell_type": "code",
      "source": [
        "#@markdown <h3>⬅ Run This Cell to  Mount Gdrive\n",
        "from google.colab import drive\n",
        "drive.mount('/content/drive')"
      ],
      "metadata": {
        "colab": {
          "base_uri": "https://localhost:8080/"
        },
        "id": "NSUHqvtsqX1H",
        "outputId": "d26783e0-d3d6-4805-81d8-16f3fd8e9e15",
        "cellView": "form"
      },
      "execution_count": null,
      "outputs": [
        {
          "output_type": "stream",
          "name": "stdout",
          "text": [
            "Mounted at /content/drive\n"
          ]
        }
      ]
    },
    {
      "cell_type": "code",
      "source": [
        "#@markdown <h3>⬅️ Run This Code to Fullfill Script Requirements</h3>\n",
        "try: import youtube_dl\n",
        "except:\n",
        "    ! pip install youtube-dl\n",
        "else:\n",
        "  print (\"youtube-dl is already installed\")\n",
        "!apt install atomicparsley -qq"
      ],
      "metadata": {
        "colab": {
          "base_uri": "https://localhost:8080/"
        },
        "id": "kw64VxExqvgT",
        "outputId": "03f79760-cd46-432d-f926-90bd111ac94a"
      },
      "execution_count": null,
      "outputs": [
        {
          "output_type": "stream",
          "name": "stdout",
          "text": [
            "youtube-dl is already installed\n",
            "atomicparsley is already the newest version (0.9.6-1).\n",
            "0 upgraded, 0 newly installed, 0 to remove and 39 not upgraded.\n"
          ]
        }
      ]
    },
    {
      "cell_type": "code",
      "source": [
        "#@markdown <h3>⬅️ Run this Cell to Download YouTube Video</h3>\n",
        "#@markdown <p><i>&nbsp;&nbsp;&nbsp;&nbsp;&nbsp;&nbsp;&nbsp;&nbsp;&nbsp;&nbsp;https://voussoir.net/writing/youtubedl_formats</i></p>\n",
        "YouTube_Link = \"https://www.youtube.com/watch?v=yQEondeGvKo\" #@param {type:\"string\"}\n",
        "import youtube_dl\n",
        "import google\n",
        "!youtube-dl -i --all-subs --embed-subs --embed-thumbnail --add-metadata --merge-output-format mp4 --format bestvideo[ext=mp4]+bestaudio[ext=m4a] {YouTube_Link}"
      ],
      "metadata": {
        "colab": {
          "base_uri": "https://localhost:8080/"
        },
        "id": "fx03rOBOrFe8",
        "outputId": "370ef9ba-8d51-46b2-f6b3-2c54a37046e2"
      },
      "execution_count": null,
      "outputs": [
        {
          "output_type": "stream",
          "name": "stdout",
          "text": [
            "[youtube] yQEondeGvKo: Downloading webpage\n",
            "[info] Writing video subtitles to: Stranger Things 4 _ Official Trailer _ Netflix-yQEondeGvKo.en-US.vtt\n",
            "[youtube] yQEondeGvKo: Downloading thumbnail ...\n",
            "[youtube] yQEondeGvKo: Writing thumbnail to: Stranger Things 4 _ Official Trailer _ Netflix-yQEondeGvKo.jpg\n",
            "[download] Destination: Stranger Things 4 _ Official Trailer _ Netflix-yQEondeGvKo.f137.mp4\n",
            "\u001b[K[download] 100% of 37.07MiB in 11:12\n",
            "[download] Destination: Stranger Things 4 _ Official Trailer _ Netflix-yQEondeGvKo.f140.m4a\n",
            "\u001b[K[download] 100% of 3.03MiB in 00:54\n",
            "[ffmpeg] Merging formats into \"Stranger Things 4 _ Official Trailer _ Netflix-yQEondeGvKo.mp4\"\n",
            "Deleting original file Stranger Things 4 _ Official Trailer _ Netflix-yQEondeGvKo.f137.mp4 (pass -k to keep)\n",
            "Deleting original file Stranger Things 4 _ Official Trailer _ Netflix-yQEondeGvKo.f140.m4a (pass -k to keep)\n",
            "[ffmpeg] Adding metadata to 'Stranger Things 4 _ Official Trailer _ Netflix-yQEondeGvKo.mp4'\n",
            "[ffmpeg] Embedding subtitles in 'Stranger Things 4 _ Official Trailer _ Netflix-yQEondeGvKo.mp4'\n",
            "Deleting original file Stranger Things 4 _ Official Trailer _ Netflix-yQEondeGvKo.en-US.vtt (pass -k to keep)\n",
            "\u001b[0;31mERROR:\u001b[0m AtomicParsley was not found. Please install.\n"
          ]
        }
      ]
    },
    {
      "cell_type": "code",
      "source": [
        "#@markdown <h3>⬅️ Run This Cell to Move Downloaded Video to Gdrive\n",
        "!mkdir /content/YouTube/\n",
        "!mv *.mp4 /content/YouTube/\n",
        "!mv /content/YouTube/* '/content/drive/My Drive/YouTube/'\n",
        "!rm *.jpg\n",
        "!rm -r /content/YouTube/"
      ],
      "metadata": {
        "id": "neesU4rJrQZN",
        "colab": {
          "base_uri": "https://localhost:8080/"
        },
        "outputId": "f30121e9-442c-4d21-a570-ae581485a6dc"
      },
      "execution_count": null,
      "outputs": [
        {
          "output_type": "stream",
          "name": "stdout",
          "text": [
            "mkdir: cannot create directory ‘/content/YouTube/’: File exists\n",
            "mv: cannot stat '*.mp4': No such file or directory\n",
            "copied '/content/YouTube/Stranger Things 4 _ Official Trailer _ Netflix-yQEondeGvKo.mp4' -> '/content/drive/My Drive/YouTube/Stranger Things 4 _ Official Trailer _ Netflix-yQEondeGvKo.mp4'\n",
            "removed '/content/YouTube/Stranger Things 4 _ Official Trailer _ Netflix-yQEondeGvKo.mp4'\n"
          ]
        }
      ]
    }
  ]
}