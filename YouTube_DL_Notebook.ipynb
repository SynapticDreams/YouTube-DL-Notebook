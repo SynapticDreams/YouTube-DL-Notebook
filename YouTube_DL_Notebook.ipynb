{
  "nbformat": 4,
  "nbformat_minor": 0,
  "metadata": {
    "colab": {
      "name": "YouTube_DL_Notebook.ipynb",
      "provenance": [],
      "collapsed_sections": []
    },
    "kernelspec": {
      "name": "python3",
      "display_name": "Python 3"
    },
    "language_info": {
      "name": "python"
    }
  },
  "cells": [
    {
      "cell_type": "markdown",
      "source": [
        "# **YouTube-DL Notebook**"
      ],
      "metadata": {
        "id": "yMjSfsQ3XPgI"
      }
    },
    {
      "cell_type": "code",
      "source": [
        "#@markdown <h3>⬅ 1. Run This Cell to Mount Your Google Drive\n",
        "from google.colab import drive\n",
        "drive.mount('/content/drive')"
      ],
      "metadata": {
        "id": "NSUHqvtsqX1H",
        "cellView": "form"
      },
      "execution_count": null,
      "outputs": []
    },
    {
      "cell_type": "code",
      "source": [
        "#@markdown <h3>⬅ 2. Run This Cell to Install Script Requirements</h3>\n",
        "try: import youtube_dl\n",
        "except:\n",
        "    ! pip install youtube-dl\n",
        "else:\n",
        "  print (\"youtube-dl is already installed\")\n",
        "!apt install atomicparsley -qq"
      ],
      "metadata": {
        "id": "kw64VxExqvgT",
        "cellView": "form"
      },
      "execution_count": null,
      "outputs": []
    },
    {
      "cell_type": "code",
      "source": [
        "#@markdown <h3>⬅ 3. Run this Cell to Download YouTube Video</h3>\n",
        "YouTube_Link = \"Paste YouTube Link in Here\" #@param {type:\"string\"}\n",
        "import youtube_dl\n",
        "import google\n",
        "!youtube-dl -i --all-subs --embed-subs --embed-thumbnail --add-metadata --merge-output-format mp4 --format bestvideo[ext=mp4]+bestaudio[ext=m4a] {YouTube_Link}"
      ],
      "metadata": {
        "id": "fx03rOBOrFe8",
        "cellView": "form"
      },
      "execution_count": null,
      "outputs": []
    },
    {
      "cell_type": "code",
      "source": [
        "#@markdown <h3>⬅ 4. Run This Cell to Move Downloaded Video to Google Drive\n",
        "!mkdir /content/YouTube/\n",
        "!mv *.mp4 /content/YouTube/\n",
        "!mv /content/YouTube/* '/content/drive/My Drive/YouTube/'\n",
        "!rm *.jpg\n",
        "!rm -r /content/YouTube/"
      ],
      "metadata": {
        "id": "neesU4rJrQZN",
        "cellView": "form"
      },
      "execution_count": null,
      "outputs": []
    },
    {
      "cell_type": "markdown",
      "source": [
        "**NOTE:** Repeat steps 3 and 4 to download another video"
      ],
      "metadata": {
        "id": "_aPlFxGxoYFm"
      }
    }
  ]
}
